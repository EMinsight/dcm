{
 "cells": [
  {
   "cell_type": "markdown",
   "id": "62cb5bbf",
   "metadata": {},
   "source": [
    "# Time domain methods for the curlcurl eigenvalue problem\n",
    "\n",
    "### by M. Wess, 2024\n",
    "*This Notebook is part of the `dualcellspaces` [documentation](https://ngsolve.github.io/dcm) for the addon package implementing the Dual Cell method in [NGSolve](https://ngsolve.org).*"
   ]
  },
  {
   "cell_type": "markdown",
   "id": "83909388",
   "metadata": {},
   "source": [
    "In this notebook we show how to numerically solve the Maxwell eigenvalue problem combining `dualcellspaces` package with the ideas from\n",
    "\n",
    "[1] L. Nannen and M. Wess, *A Krylov Eigenvalue Solver Based on Filtered Time Domain Solutions*, arXiv prepreint, 2024, [https://doi.org/10.48550/arXiv.2402.08515](https://doi.org/10.48550/arXiv.2402.08515)."
   ]
  },
  {
   "cell_type": "markdown",
   "id": "1514d697",
   "metadata": {},
   "source": [
    "We want to approximate the eigenvectors and eigenfunctions of the problem to find $\\tilde\\omega\\in\\mathbb R, E\\in H(\\mathrm{curl})(\\Omega)$ for some domain $\\Omega\\subset\\mathbb R^3$ such that\n",
    "\n",
    "$$\n",
    "\\mathrm{curl}\\mathrm{curl}E(x) = \\tilde\\omega^2 E(x)\n",
    "$$\n",
    "with natural boundary conditions.\n",
    "\n"
   ]
  },
  {
   "cell_type": "markdown",
   "id": "acd73ed4",
   "metadata": {},
   "source": [
    "## The filtered problem\n",
    "\n",
    "The idea from [[1]](https://doi.org/10.48550/arXiv.2402.08515) in short is to use the solution of the time-domain Maxwell problem \n",
    "\n",
    "$$\n",
    "\\begin{aligned}\n",
    "\\partial_t^2 e(t,x) + \\mathrm{curl}\\mathrm{curl}e(t,x)&=0\\\\\n",
    "e(0,x)&=E_0(x)\n",
    "\\end{aligned}\n",
    "$$\n",
    "To define the filtered operator $\\tilde \\Pi_\\alpha$ by\n",
    "$$\n",
    "(\\tilde \\Pi_{\\alpha} E^0)(x) = \\int_0^\\infty e(t,x)\\alpha(t)dt\n",
    "$$\n",
    "for some weight function $\\alpha$ with final support in $\\mathbb R$.\n",
    "\n",
    "It can be shown that for an eigenpair $(\\tilde\\omega, E)$ of the Maxwell eigenvalue problem $(\\beta(\\tilde\\omega),E)$ is an eigenpair of $\\Pi_\\alpha$ for \n",
    "\n",
    "$$\n",
    "\\tilde \\beta(s):=\\int_0^\\infty \\cos(ts)\\alpha(t)dt.\n",
    "$$"
   ]
  },
  {
   "cell_type": "markdown",
   "id": "c98c5485",
   "metadata": {},
   "source": [
    "## Discretizations\n",
    "\n",
    "The same arguments hold true if we replace the continuous problem by the discrete eigenvalue problem\n",
    "\n",
    "$$\n",
    "\\mathbf S \\mathbf E = \\omega^2\\mathbf M \\mathbf E\n",
    "$$\n",
    "where $\\mathbf S,\\mathbf M$ are the discretization of the $\\mathrm {curl}\\mathrm {curl}$ and the mass matrix and $\\mathbf E$ is the coefficient vector of the discrete eigenfunctions.\n",
    "\n",
    "Discretizing the semi-discrete time domain problem by a time-stepping and the integral by a trapezoidal rule leads to the discrete filter\n",
    "\n",
    "$$\n",
    "(\\Pi_\\alpha)(\\mathbf{e^0})=\\tau \\sum_{j=0}^M \\alpha(\\tau j) \\mathbf e^j\n",
    "$$\n",
    "where $\\mathbf e^j$ is the time-domain solution at time step number $j$.\n",
    "\n",
    "Then if $\\omega,\\mathbf E$  is an eigenpair of the discrete problem $(\\beta(\\omega),\\mathbf E)$ is an eigenpair of the operator $\\Pi_\\alpha$ with\n",
    "$$\n",
    "\\beta(s):= \\tau \\sum_{j=0}^M \\lambda_j(s)\\alpha(\\tau j)\n",
    "$$\n",
    "and $\\lambda_j$ is the approximation of the scalar problem\n",
    "$$\n",
    "\\partial_t^2 l(t)+s^2 l(t)=0,\\quad l(0) = 1\n",
    "$$\n",
    "by the chosen time-stepping."
   ]
  },
  {
   "cell_type": "markdown",
   "id": "b8764a60",
   "metadata": {},
   "source": [
    "### Choosing the filter and solving the problem\n",
    "\n",
    "The idea is now to choose the weight function $\\alpha$ such that the resulting filter $\\beta$ is maximal in a region where the sought after eigenvalues are and close to zero otherwise. Then applying e.g., an Arnoldi algorithm to the filtered operator $\\Pi_\\alpha$ will yield approximations to the eigenfunctions where $\\beta$ is maximal, which we know to be eigenvectors of the original problems corresponding to eigenvalues in the interesting region. Lastly we solve the original problem projected onto the space spanned by the Krylov space of $\\Pi_\\alpha$."
   ]
  },
  {
   "cell_type": "code",
   "execution_count": null,
   "id": "51da17e6",
   "metadata": {},
   "outputs": [],
   "source": []
  }
 ],
 "metadata": {
  "kernelspec": {
   "display_name": "Python 3 (ipykernel)",
   "language": "python",
   "name": "python3"
  },
  "language_info": {
   "codemirror_mode": {
    "name": "ipython",
    "version": 3
   },
   "file_extension": ".py",
   "mimetype": "text/x-python",
   "name": "python",
   "nbconvert_exporter": "python",
   "pygments_lexer": "ipython3",
   "version": "3.10.12"
  }
 },
 "nbformat": 4,
 "nbformat_minor": 5
}
